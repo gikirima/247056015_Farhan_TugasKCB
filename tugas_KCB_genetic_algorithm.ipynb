{
  "nbformat": 4,
  "nbformat_minor": 0,
  "metadata": {
    "colab": {
      "provenance": []
    },
    "kernelspec": {
      "name": "python3",
      "display_name": "Python 3"
    },
    "language_info": {
      "name": "python"
    }
  },
  "cells": [
    {
      "cell_type": "code",
      "execution_count": 99,
      "metadata": {
        "colab": {
          "base_uri": "https://localhost:8080/"
        },
        "id": "R8TSMX2_nwD1",
        "outputId": "7e65aab7-f319-448b-c2f1-987513b8337d"
      },
      "outputs": [
        {
          "output_type": "stream",
          "name": "stdout",
          "text": [
            "jadwal:  ['C', 'A', 'B', 'D'] fitness:  2\n",
            "jadwal:  ['A', 'C', 'B', 'D'] fitness:  2\n",
            "Jadwal terbaik: ['C', 'A', 'B', 'D']\n",
            "Fitness: 2\n"
          ]
        }
      ],
      "source": [
        "import random\n",
        "\n",
        "# Definisikan durasi setiap kegiatan\n",
        "durasi = {'A': 2, 'B': 3, 'C': 2, 'D': 4}\n",
        "max_duration = 8  # Durasi maksimal\n",
        "\n",
        "# Fungsi untuk menghitung fitness\n",
        "def fitness(schedule):\n",
        "    # Cek apakah A sebelum B\n",
        "    if schedule.index('A') > schedule.index('B'):\n",
        "        return 0\n",
        "\n",
        "    # Cek apakah C dan D tidak bersebelahan\n",
        "    for i in range(len(schedule) - 1):\n",
        "        if (schedule[i] == 'C' and schedule[i + 1] == 'D') or (schedule[i] == 'D' and schedule[i + 1] == 'C'):\n",
        "            return 0\n",
        "\n",
        "    # Hitung total durasi dengan aturan penggabungan\n",
        "    total_duration = 0\n",
        "    # buat sebuah list bernama gabung, yang isinya adalah index angka genap < panjang index schedule\n",
        "    gabung = [i for i in range(len(schedule)) if i % 2 == 0]\n",
        "\n",
        "    # menggabungkan total_duration dari index 1&2, 3&4\n",
        "    for i in gabung:\n",
        "        total_duration += max(durasi[schedule[i]], durasi[schedule[i+1]])\n",
        "\n",
        "    # Cek apakah total durasi melebihi batas\n",
        "    if total_duration > max_duration:\n",
        "        return 0\n",
        "\n",
        "    return max_duration - total_duration  # Semakin kecil total durasi, semakin baik\n",
        "\n",
        "# Fungsi untuk membuat jadwal acak\n",
        "def random_schedule():\n",
        "    return random.sample(list(durasi.keys()), len(durasi))\n",
        "\n",
        "# Algoritma Genetika\n",
        "population_size = 20\n",
        "generations = 50\n",
        "population = [random_schedule() for _ in range(population_size)]\n",
        "\n",
        "for generation in range(generations):\n",
        "    # Hitung fitness setiap jadwal\n",
        "    population = sorted(population, key=fitness, reverse=True)\n",
        "\n",
        "    # Seleksi jadwal terbaik\n",
        "    population = population[:10]\n",
        "\n",
        "    # Buat generasi baru dengan crossover dan mutasi\n",
        "    new_population = []\n",
        "    for _ in range(population_size):\n",
        "        parent1, parent2 = random.sample(population, 2)\n",
        "        cut = random.randint(1, len(durasi) - 1)\n",
        "        child = parent1[:cut] + [x for x in parent2 if x not in parent1[:cut]]\n",
        "\n",
        "        # Mutasi\n",
        "        if random.random() < 0.1:\n",
        "            i, j = random.sample(range(len(child)), 2)\n",
        "            child[i], child[j] = child[j], child[i]\n",
        "\n",
        "        new_population.append(child)\n",
        "\n",
        "    population = new_population\n",
        "\n",
        "# jadwal yang memenuhi semua syarat:\n",
        "population = sorted(population, key=fitness, reverse=True)\n",
        "\n",
        "# populations = populasi tapi yang unique saja\n",
        "populations = []\n",
        "for schedule in population:\n",
        "    if schedule not in populations:\n",
        "        populations.append(schedule)\n",
        "\n",
        "# print jadwal yang memenuhi semua syarat\n",
        "for schedule in populations:\n",
        "    if fitness(schedule) > 0:\n",
        "      print(\"jadwal: \",schedule, end=\" \")\n",
        "      print(\"fitness: \",fitness(schedule))\n",
        "\n",
        "# Cetak solusi terbaik\n",
        "best_schedule = max(population, key=fitness)\n",
        "print(\"Jadwal terbaik:\", best_schedule)\n",
        "print(\"Fitness:\", fitness(best_schedule))"
      ]
    },
    {
      "cell_type": "code",
      "source": [],
      "metadata": {
        "id": "eSoiaLe3pMh4"
      },
      "execution_count": 40,
      "outputs": []
    }
  ]
}